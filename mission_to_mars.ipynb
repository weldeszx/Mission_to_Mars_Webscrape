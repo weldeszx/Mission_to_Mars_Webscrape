{
 "cells": [
  {
   "cell_type": "code",
   "execution_count": 22,
   "metadata": {
    "collapsed": true
   },
   "outputs": [],
   "source": [
    "#\n",
    "from bs4 import BeautifulSoup\n",
    "import pymongo\n",
    "import flask_mongoalchemy\n",
    "from splinter import Browser\n",
    "import requests as r\n",
    "import time\n",
    "import pandas as pd"
   ]
  },
  {
   "cell_type": "code",
   "execution_count": 84,
   "metadata": {
    "collapsed": true
   },
   "outputs": [],
   "source": [
    "#set up splinter browser\n",
    "executable_path = {'executable_path': '/usr/local/bin/chromedriver'}\n",
    "browser = Browser('chrome', **executable_path, headless = False)\n"
   ]
  },
  {
   "cell_type": "markdown",
   "metadata": {},
   "source": [
    "# Current News from NASA Website"
   ]
  },
  {
   "cell_type": "code",
   "execution_count": 24,
   "metadata": {
    "collapsed": true
   },
   "outputs": [],
   "source": [
    "#visit url\n",
    "url = \"https://mars.nasa.gov/news/\"\n",
    "browser.visit(url)\n",
    "\n",
    "#pull html text and parse\n",
    "html_code = browser.html\n",
    "soup = BeautifulSoup(html_code, \"html.parser\")\n",
    "\n",
    "#grab needed info\n",
    "news_title = soup.find('div', class_=\"content_title\").text\n",
    "news_p = soup.find('div', class_=\"article_teaser_body\").text"
   ]
  },
  {
   "cell_type": "code",
   "execution_count": 25,
   "metadata": {},
   "outputs": [
    {
     "name": "stdout",
     "output_type": "stream",
     "text": [
      "Seven Ways Mars InSight is Different\n",
      "------------------------------\n",
      "NASA has a long and successful track record at Mars. Since 1965, it has flown by, orbited, landed and roved across the surface of the Red Planet. What can InSight -- planned for launch in May -- do that hasn’t been done before?\n"
     ]
    }
   ],
   "source": [
    "print(news_title)\n",
    "print(\"-\"*30)\n",
    "print(news_p)\n"
   ]
  },
  {
   "cell_type": "markdown",
   "metadata": {},
   "source": [
    "# Latest Featured Image"
   ]
  },
  {
   "cell_type": "code",
   "execution_count": 26,
   "metadata": {
    "collapsed": true
   },
   "outputs": [],
   "source": [
    "# Featured Image URL & visit\n",
    "jpl_url = \"https://www.jpl.nasa.gov/spaceimages/?search=&category=Mars\"\n",
    "browser.visit(jpl_url)\n",
    "\n",
    "#navigate to link\n",
    "browser.click_link_by_partial_text('FULL IMAGE')\n",
    "time.sleep(10)\n",
    "browser.click_link_by_partial_text('more info')\n",
    "\n",
    "# #get html code once at page\n",
    "image_html = browser.html\n",
    "\n",
    "# #parse\n",
    "soup = BeautifulSoup(image_html, \"html.parser\")\n",
    "\n",
    "# #find path and make full path\n",
    "image_path = soup.find('figure', class_='lede').a['href']\n",
    "featured_image_url = \"https://www.jpl.nasa.gov/\" + image_path"
   ]
  },
  {
   "cell_type": "code",
   "execution_count": 27,
   "metadata": {},
   "outputs": [
    {
     "name": "stdout",
     "output_type": "stream",
     "text": [
      "https://www.jpl.nasa.gov//spaceimages/images/largesize/PIA18851_hires.jpg\n"
     ]
    }
   ],
   "source": [
    "print(featured_image_url)"
   ]
  },
  {
   "cell_type": "markdown",
   "metadata": {},
   "source": [
    "# Mars Weather"
   ]
  },
  {
   "cell_type": "code",
   "execution_count": 28,
   "metadata": {
    "collapsed": true
   },
   "outputs": [],
   "source": [
    "marsweather_url = \"https://twitter.com/marswxreport?lang=en\"\n",
    "browser.visit(marsweather_url)\n",
    "\n",
    "weather_html = browser.html\n",
    "\n",
    "soup = BeautifulSoup(weather_html, 'html.parser')\n",
    "\n",
    "mars_weather = soup.find('p', class_=\"TweetTextSize TweetTextSize--normal js-tweet-text tweet-text\").text"
   ]
  },
  {
   "cell_type": "code",
   "execution_count": 29,
   "metadata": {},
   "outputs": [
    {
     "name": "stdout",
     "output_type": "stream",
     "text": [
      "Sol 1970 (Feb 20, 2018), Sunny, high -16C/3F, low -77C/-106F, pressure at 7.32 hPa, daylight 05:38-17:26\n"
     ]
    }
   ],
   "source": [
    "print(mars_weather)"
   ]
  },
  {
   "cell_type": "markdown",
   "metadata": {},
   "source": [
    "# Mars Facts"
   ]
  },
  {
   "cell_type": "code",
   "execution_count": 30,
   "metadata": {
    "collapsed": true
   },
   "outputs": [],
   "source": [
    "#mars facts url and splinter visit\n",
    "facts_url = \"https://space-facts.com/mars/\"\n",
    "browser.visit(facts_url)\n",
    "\n",
    "#get html\n",
    "facts_html = browser.html\n",
    "\n",
    "soup = BeautifulSoup(facts_html, 'html.parser')"
   ]
  },
  {
   "cell_type": "code",
   "execution_count": 31,
   "metadata": {
    "collapsed": true
   },
   "outputs": [],
   "source": [
    "#get the entire table\n",
    "table_data = soup.find('table', class_=\"tablepress tablepress-id-mars\")"
   ]
  },
  {
   "cell_type": "code",
   "execution_count": 32,
   "metadata": {
    "collapsed": true,
    "scrolled": true
   },
   "outputs": [],
   "source": [
    "#find all instances of table row\n",
    "table_all = table_data.find_all('tr')\n",
    "\n",
    "#set up lists to hold td elements which alternate between label and value\n",
    "labels = []\n",
    "values = []\n",
    "\n",
    "#for each tr element append the first td element to labels and the second to values\n",
    "for tr in table_all:\n",
    "    td_elements = tr.find_all('td')\n",
    "    labels.append(td_elements[0].text)\n",
    "    values.append(td_elements[1].text)\n",
    "        "
   ]
  },
  {
   "cell_type": "code",
   "execution_count": 33,
   "metadata": {
    "collapsed": true
   },
   "outputs": [],
   "source": [
    "#make a data frame and view\n",
    "mars_facts_df = pd.DataFrame({\n",
    "    \"Label\": labels,\n",
    "    \"Values\": values\n",
    "})"
   ]
  },
  {
   "cell_type": "code",
   "execution_count": 34,
   "metadata": {},
   "outputs": [
    {
     "data": {
      "text/html": [
       "<div>\n",
       "<style scoped>\n",
       "    .dataframe tbody tr th:only-of-type {\n",
       "        vertical-align: middle;\n",
       "    }\n",
       "\n",
       "    .dataframe tbody tr th {\n",
       "        vertical-align: top;\n",
       "    }\n",
       "\n",
       "    .dataframe thead th {\n",
       "        text-align: right;\n",
       "    }\n",
       "</style>\n",
       "<table border=\"1\" class=\"dataframe\">\n",
       "  <thead>\n",
       "    <tr style=\"text-align: right;\">\n",
       "      <th></th>\n",
       "      <th>Label</th>\n",
       "      <th>Values</th>\n",
       "    </tr>\n",
       "  </thead>\n",
       "  <tbody>\n",
       "    <tr>\n",
       "      <th>0</th>\n",
       "      <td>Equatorial Diameter:</td>\n",
       "      <td>6,792 km\\n</td>\n",
       "    </tr>\n",
       "    <tr>\n",
       "      <th>1</th>\n",
       "      <td>Polar Diameter:</td>\n",
       "      <td>6,752 km\\n</td>\n",
       "    </tr>\n",
       "    <tr>\n",
       "      <th>2</th>\n",
       "      <td>Mass:</td>\n",
       "      <td>6.42 x 10^23 kg (10.7% Earth)</td>\n",
       "    </tr>\n",
       "    <tr>\n",
       "      <th>3</th>\n",
       "      <td>Moons:</td>\n",
       "      <td>2 (Phobos &amp; Deimos)</td>\n",
       "    </tr>\n",
       "    <tr>\n",
       "      <th>4</th>\n",
       "      <td>Orbit Distance:</td>\n",
       "      <td>227,943,824 km (1.52 AU)</td>\n",
       "    </tr>\n",
       "    <tr>\n",
       "      <th>5</th>\n",
       "      <td>Orbit Period:</td>\n",
       "      <td>687 days (1.9 years)\\n</td>\n",
       "    </tr>\n",
       "    <tr>\n",
       "      <th>6</th>\n",
       "      <td>Surface Temperature:</td>\n",
       "      <td>-153 to 20 °C</td>\n",
       "    </tr>\n",
       "    <tr>\n",
       "      <th>7</th>\n",
       "      <td>First Record:</td>\n",
       "      <td>2nd millennium BC</td>\n",
       "    </tr>\n",
       "    <tr>\n",
       "      <th>8</th>\n",
       "      <td>Recorded By:</td>\n",
       "      <td>Egyptian astronomers</td>\n",
       "    </tr>\n",
       "  </tbody>\n",
       "</table>\n",
       "</div>"
      ],
      "text/plain": [
       "                   Label                         Values\n",
       "0   Equatorial Diameter:                     6,792 km\\n\n",
       "1        Polar Diameter:                     6,752 km\\n\n",
       "2                  Mass:  6.42 x 10^23 kg (10.7% Earth)\n",
       "3                 Moons:            2 (Phobos & Deimos)\n",
       "4        Orbit Distance:       227,943,824 km (1.52 AU)\n",
       "5          Orbit Period:         687 days (1.9 years)\\n\n",
       "6  Surface Temperature:                   -153 to 20 °C\n",
       "7          First Record:              2nd millennium BC\n",
       "8           Recorded By:           Egyptian astronomers"
      ]
     },
     "execution_count": 34,
     "metadata": {},
     "output_type": "execute_result"
    }
   ],
   "source": [
    "mars_facts_df"
   ]
  },
  {
   "cell_type": "code",
   "execution_count": 35,
   "metadata": {},
   "outputs": [
    {
     "data": {
      "text/plain": [
       "'<table border=\"1\" class=\"dataframe\">\\n  <tbody>\\n    <tr>\\n      <td>Equatorial Diameter:</td>\\n      <td>6,792 km\\\\n</td>\\n    </tr>\\n    <tr>\\n      <td>Polar Diameter:</td>\\n      <td>6,752 km\\\\n</td>\\n    </tr>\\n    <tr>\\n      <td>Mass:</td>\\n      <td>6.42 x 10^23 kg (10.7% Earth)</td>\\n    </tr>\\n    <tr>\\n      <td>Moons:</td>\\n      <td>2 (Phobos &amp; Deimos)</td>\\n    </tr>\\n    <tr>\\n      <td>Orbit Distance:</td>\\n      <td>227,943,824 km (1.52 AU)</td>\\n    </tr>\\n    <tr>\\n      <td>Orbit Period:</td>\\n      <td>687 days (1.9 years)\\\\n</td>\\n    </tr>\\n    <tr>\\n      <td>Surface Temperature:</td>\\n      <td>-153 to 20 °C</td>\\n    </tr>\\n    <tr>\\n      <td>First Record:</td>\\n      <td>2nd millennium BC</td>\\n    </tr>\\n    <tr>\\n      <td>Recorded By:</td>\\n      <td>Egyptian astronomers</td>\\n    </tr>\\n  </tbody>\\n</table>'"
      ]
     },
     "execution_count": 35,
     "metadata": {},
     "output_type": "execute_result"
    }
   ],
   "source": [
    "# get html code for DataFrame\n",
    "fact_table = mars_facts_df.to_html(header = False, index = False)\n",
    "fact_table"
   ]
  },
  {
   "cell_type": "markdown",
   "metadata": {},
   "source": [
    "# Mars Hemisperes"
   ]
  },
  {
   "cell_type": "code",
   "execution_count": 96,
   "metadata": {},
   "outputs": [
    {
     "name": "stdout",
     "output_type": "stream",
     "text": [
      "[{'title': <h3>Cerberus Hemisphere Enhanced</h3>, 'img_url': 'http://astropedia.astrogeology.usgs.gov/download/Mars/Viking/cerberus_enhanced.tif/full.jpg'}, {'title': <h3>Schiaparelli Hemisphere Enhanced</h3>, 'img_url': 'http://astropedia.astrogeology.usgs.gov/download/Mars/Viking/schiaparelli_enhanced.tif/full.jpg'}, {'title': <h3>Syrtis Major Hemisphere Enhanced</h3>, 'img_url': 'http://astropedia.astrogeology.usgs.gov/download/Mars/Viking/syrtis_major_enhanced.tif/full.jpg'}, {'title': <h3>Valles Marineris Hemisphere Enhanced</h3>, 'img_url': 'http://astropedia.astrogeology.usgs.gov/download/Mars/Viking/valles_marineris_enhanced.tif/full.jpg'}]\n"
     ]
    }
   ],
   "source": [
    "# new url\n",
    "usgs_url = \"https://astrogeology.usgs.gov/search/results?q=hemisphere+enhanced&k1=target&v1=Mars\"\n",
    "\n",
    "browser.visit(usgs_url)\n",
    "\n",
    "usgs_html = browser.html\n",
    "\n",
    "soup = BeautifulSoup(usgs_html, \"html.parser\")\n",
    "\n",
    "# gets class holding hemisphere picture\n",
    "returns = soup.find('div', class_=\"collapsible results\")\n",
    "hemispheres = returns.find_all('div', class_=\"description\")\n",
    "# returns2 = returns.find_all('div', class_=\"description\")\n",
    "# hemispheres = returns2.a#find_all('a', class_=\"itemLink product-item\")\n",
    "\n",
    "\n",
    "#setup list to hold dictionaries\n",
    "hemisphere_image_urls =[]\n",
    "\n",
    "for a in hemispheres:\n",
    "    #get title and link from main page\n",
    "    title = a.h3\n",
    "    link = \"https://astrogeology.usgs.gov\" + a.a['href']\n",
    "    \n",
    "    #follow link from each page\n",
    "    browser.visit(link)\n",
    "#     time.sleep(5)\n",
    "    \n",
    "    #get image links\n",
    "    image_page = browser.html\n",
    "    results = BeautifulSoup(image_page, 'html.parser')\n",
    "    img_link = results.find('div', class_='downloads').find('li').a['href']\n",
    "    \n",
    "    # create image dictionary for each image and title\n",
    "    image_dict = {}\n",
    "    image_dict['title'] = title\n",
    "    image_dict['img_url'] = img_link\n",
    "    \n",
    "    hemisphere_image_urls.append(image_dict)\n",
    "    \n",
    "print(hemisphere_image_urls)\n",
    "    \n",
    "    #browser.visit\n",
    "\n",
    "\n",
    "# usgs_html"
   ]
  },
  {
   "cell_type": "code",
   "execution_count": 93,
   "metadata": {},
   "outputs": [
    {
     "data": {
      "text/plain": [
       "'/search/map/Mars/Viking/valles_marineris_enhanced'"
      ]
     },
     "execution_count": 93,
     "metadata": {},
     "output_type": "execute_result"
    }
   ],
   "source": [
    "hemispheres[3].a['href']"
   ]
  },
  {
   "cell_type": "code",
   "execution_count": 124,
   "metadata": {},
   "outputs": [
    {
     "data": {
      "text/plain": [
       "'Cerberus Hemisphere Enhanced'"
      ]
     },
     "execution_count": 124,
     "metadata": {},
     "output_type": "execute_result"
    }
   ],
   "source": [
    "hemispheres[0].find('h3').text"
   ]
  },
  {
   "cell_type": "code",
   "execution_count": 100,
   "metadata": {
    "collapsed": true
   },
   "outputs": [],
   "source": [
    "mars_dict = {\n",
    "        \"id\": 1,\n",
    "        \"news_title\": news_title,\n",
    "        \"news_p\": news_p,\n",
    "        \"featured_image_url\": featured_image_url,\n",
    "        \"mars_weather\": mars_weather,\n",
    "        \"fact_table\": fact_table,\n",
    "        \"hemisphere_images\": hemisphere_image_urls}"
   ]
  },
  {
   "cell_type": "code",
   "execution_count": 99,
   "metadata": {},
   "outputs": [
    {
     "data": {
      "text/plain": [
       "[{'img_url': 'http://astropedia.astrogeology.usgs.gov/download/Mars/Viking/cerberus_enhanced.tif/full.jpg',\n",
       "  'title': <h3>Cerberus Hemisphere Enhanced</h3>},\n",
       " {'img_url': 'http://astropedia.astrogeology.usgs.gov/download/Mars/Viking/schiaparelli_enhanced.tif/full.jpg',\n",
       "  'title': <h3>Schiaparelli Hemisphere Enhanced</h3>},\n",
       " {'img_url': 'http://astropedia.astrogeology.usgs.gov/download/Mars/Viking/syrtis_major_enhanced.tif/full.jpg',\n",
       "  'title': <h3>Syrtis Major Hemisphere Enhanced</h3>},\n",
       " {'img_url': 'http://astropedia.astrogeology.usgs.gov/download/Mars/Viking/valles_marineris_enhanced.tif/full.jpg',\n",
       "  'title': <h3>Valles Marineris Hemisphere Enhanced</h3>}]"
      ]
     },
     "execution_count": 99,
     "metadata": {},
     "output_type": "execute_result"
    }
   ],
   "source": [
    "hemisphere_image_urls"
   ]
  },
  {
   "cell_type": "code",
   "execution_count": 101,
   "metadata": {},
   "outputs": [
    {
     "data": {
      "text/plain": [
       "[{'img_url': 'http://astropedia.astrogeology.usgs.gov/download/Mars/Viking/cerberus_enhanced.tif/full.jpg',\n",
       "  'title': <h3>Cerberus Hemisphere Enhanced</h3>},\n",
       " {'img_url': 'http://astropedia.astrogeology.usgs.gov/download/Mars/Viking/schiaparelli_enhanced.tif/full.jpg',\n",
       "  'title': <h3>Schiaparelli Hemisphere Enhanced</h3>},\n",
       " {'img_url': 'http://astropedia.astrogeology.usgs.gov/download/Mars/Viking/syrtis_major_enhanced.tif/full.jpg',\n",
       "  'title': <h3>Syrtis Major Hemisphere Enhanced</h3>},\n",
       " {'img_url': 'http://astropedia.astrogeology.usgs.gov/download/Mars/Viking/valles_marineris_enhanced.tif/full.jpg',\n",
       "  'title': <h3>Valles Marineris Hemisphere Enhanced</h3>}]"
      ]
     },
     "execution_count": 101,
     "metadata": {},
     "output_type": "execute_result"
    }
   ],
   "source": [
    "mars_dict['hemisphere_images']"
   ]
  },
  {
   "cell_type": "code",
   "execution_count": 122,
   "metadata": {},
   "outputs": [
    {
     "name": "stdout",
     "output_type": "stream",
     "text": [
      "{'id': 1, 'news_title': 'Seven Ways Mars InSight is Different', 'news_p': 'NASA has a long and successful track record at Mars. Since 1965, it has flown by, orbited, landed and roved across the surface of the Red Planet. What can InSight -- planned for launch in May -- do that hasn’t been done before?', 'featured_image_url': 'https://www.jpl.nasa.gov//spaceimages/images/largesize/PIA18851_hires.jpg', 'mars_weather': 'Sol 1970 (Feb 20, 2018), Sunny, high -16C/3F, low -77C/-106F, pressure at 7.32 hPa, daylight 05:38-17:26', 'fact_table': '<table border=\"1\" class=\"dataframe\">\\n  <tbody>\\n    <tr>\\n      <td>Equatorial Diameter:</td>\\n      <td>6,792 km\\\\n</td>\\n    </tr>\\n    <tr>\\n      <td>Polar Diameter:</td>\\n      <td>6,752 km\\\\n</td>\\n    </tr>\\n    <tr>\\n      <td>Mass:</td>\\n      <td>6.42 x 10^23 kg (10.7% Earth)</td>\\n    </tr>\\n    <tr>\\n      <td>Moons:</td>\\n      <td>2 (Phobos &amp; Deimos)</td>\\n    </tr>\\n    <tr>\\n      <td>Orbit Distance:</td>\\n      <td>227,943,824 km (1.52 AU)</td>\\n    </tr>\\n    <tr>\\n      <td>Orbit Period:</td>\\n      <td>687 days (1.9 years)\\\\n</td>\\n    </tr>\\n    <tr>\\n      <td>Surface Temperature:</td>\\n      <td>-153 to 20 °C</td>\\n    </tr>\\n    <tr>\\n      <td>First Record:</td>\\n      <td>2nd millennium BC</td>\\n    </tr>\\n    <tr>\\n      <td>Recorded By:</td>\\n      <td>Egyptian astronomers</td>\\n    </tr>\\n  </tbody>\\n</table>', 'hemisphere_images': [{'title': <h3>Cerberus Hemisphere Enhanced</h3>, 'img_url': 'http://astropedia.astrogeology.usgs.gov/download/Mars/Viking/cerberus_enhanced.tif/full.jpg'}, {'title': <h3>Schiaparelli Hemisphere Enhanced</h3>, 'img_url': 'http://astropedia.astrogeology.usgs.gov/download/Mars/Viking/schiaparelli_enhanced.tif/full.jpg'}, {'title': <h3>Syrtis Major Hemisphere Enhanced</h3>, 'img_url': 'http://astropedia.astrogeology.usgs.gov/download/Mars/Viking/syrtis_major_enhanced.tif/full.jpg'}, {'title': <h3>Valles Marineris Hemisphere Enhanced</h3>, 'img_url': 'http://astropedia.astrogeology.usgs.gov/download/Mars/Viking/valles_marineris_enhanced.tif/full.jpg'}]}\n"
     ]
    }
   ],
   "source": [
    "\n",
    "# coding: utf-8\n",
    "\n",
    "#\n",
    "from bs4 import BeautifulSoup\n",
    "import pymongo\n",
    "from splinter import Browser\n",
    "import requests\n",
    "import time\n",
    "import pandas as pd\n",
    "\n",
    "def scrape():\n",
    "    # # Current News from NASA Website\n",
    "\n",
    "    #set up splinter browser\n",
    "    executable_path = {'executable_path': '/usr/local/bin/chromedriver'}\n",
    "    browser = Browser('chrome', **executable_path, headless = False)\n",
    "\n",
    "    #visit url\n",
    "    url = \"https://mars.nasa.gov/news/\"\n",
    "    browser.visit(url)\n",
    "\n",
    "    #pull html text and parse\n",
    "    html_code = browser.html\n",
    "    soup = BeautifulSoup(html_code, \"html.parser\")\n",
    "\n",
    "    #grab needed info\n",
    "    news_title = soup.find('div', class_=\"content_title\").text\n",
    "    news_p = soup.find('div', class_=\"article_teaser_body\").text\n",
    "\n",
    "\n",
    "\n",
    "\n",
    "    # # Latest Featured Image\n",
    "\n",
    "    # Featured Image URL & visit\n",
    "    jpl_url = \"https://www.jpl.nasa.gov/spaceimages/?search=&category=Mars\"\n",
    "    browser.visit(jpl_url)\n",
    "\n",
    "    #navigate to link\n",
    "    browser.click_link_by_partial_text('FULL IMAGE')\n",
    "    time.sleep(20)\n",
    "    browser.click_link_by_partial_text('more info')\n",
    "\n",
    "    #get html code once at page\n",
    "    image_html = browser.html\n",
    "\n",
    "    #parse\n",
    "    soup = BeautifulSoup(image_html, \"html.parser\")\n",
    "\n",
    "    #find path and make full path\n",
    "    image_path = soup.find('figure', class_='lede').a['href']\n",
    "    featured_image_url = \"https://www.jpl.nasa.gov/\" + image_path\n",
    "\n",
    "\n",
    "\n",
    "\n",
    "    # # Mars Weather\n",
    "\n",
    "    #weather url and html\n",
    "    marsweather_url = \"https://twitter.com/marswxreport?lang=en\"\n",
    "    browser.visit(marsweather_url)\n",
    "    weather_html = browser.html\n",
    "\n",
    "    #get lastest tweet\n",
    "    soup = BeautifulSoup(weather_html, 'html.parser')\n",
    "    mars_weather = soup.find('p', class_=\"TweetTextSize TweetTextSize--normal js-tweet-text tweet-text\").text\n",
    "\n",
    "\n",
    "\n",
    "    # # Mars Facts\n",
    "\n",
    "    #mars facts url and splinter visit\n",
    "    facts_url = \"https://space-facts.com/mars/\"\n",
    "    browser.visit(facts_url)\n",
    "\n",
    "    #get html\n",
    "    facts_html = browser.html\n",
    "    soup = BeautifulSoup(facts_html, 'html.parser')\n",
    "\n",
    "    #get the entire table\n",
    "    table_data = soup.find('table', class_=\"tablepress tablepress-id-mars\")\n",
    "\n",
    "    #find all instances of table row\n",
    "    table_all = table_data.find_all('tr')\n",
    "\n",
    "    #set up lists to hold td elements which alternate between label and value\n",
    "    labels = []\n",
    "    values = []\n",
    "\n",
    "    #for each tr element append the first td element to labels and the second to values\n",
    "    for tr in table_all:\n",
    "        td_elements = tr.find_all('td')\n",
    "        labels.append(td_elements[0].text)\n",
    "        values.append(td_elements[1].text)\n",
    "            \n",
    "\n",
    "    #make a data frame\n",
    "    mars_facts_df = pd.DataFrame({\n",
    "        \"Label\": labels,\n",
    "        \"Values\": values\n",
    "    })\n",
    "\n",
    "\n",
    "    # get html code for DataFrame\n",
    "    fact_table = mars_facts_df.to_html(header = False, index = False)\n",
    "    fact_table\n",
    "\n",
    "\n",
    "    ### Hemisphere Images\n",
    "    # new url\n",
    "    usgs_url = \"https://astrogeology.usgs.gov/search/results?q=hemisphere+enhanced&k1=target&v1=Mars\"\n",
    "\n",
    "    browser.visit(usgs_url)\n",
    "\n",
    "    usgs_html = browser.html\n",
    "\n",
    "    soup = BeautifulSoup(usgs_html, \"html.parser\")\n",
    "\n",
    "    # gets class holding hemisphere picture\n",
    "    returns = soup.find('div', class_=\"collapsible results\")\n",
    "    hemispheres = returns.find_all('div', class_=\"description\")\n",
    "\n",
    "    #setup list to hold dictionaries\n",
    "    hemisphere_image_urls =[]\n",
    "\n",
    "    for a in hemispheres:\n",
    "        #get title and link from main page\n",
    "        titles = a.h3\n",
    "        link = \"https://astrogeology.usgs.gov\" + a.a['href']\n",
    "        \n",
    "        #follow link from each page\n",
    "        browser.visit(link)\n",
    "        time.sleep(3)\n",
    "        \n",
    "        #get image links\n",
    "        image_page = browser.html\n",
    "        results = BeautifulSoup(image_page, 'html.parser')\n",
    "        img_link = results.find('div', class_='downloads').find('li').a['href']\n",
    "        # img_link = results.find('div', class_='downloads').find('li').a['href']\n",
    "        \n",
    "        # create image dictionary for each image and title\n",
    "        image_dict = {}\n",
    "        image_dict['title'] = titles\n",
    "        image_dict['img_url'] = img_link\n",
    "        \n",
    "        hemisphere_image_urls.append(image_dict)\n",
    "        \n",
    "    #print(hemisphere_image_urls)\n",
    "\n",
    "    mars_dict = {\n",
    "        \"id\": 1,\n",
    "        \"news_title\": news_title,\n",
    "        \"news_p\": news_p,\n",
    "        \"featured_image_url\": featured_image_url,\n",
    "        \"mars_weather\": mars_weather,\n",
    "        \"fact_table\": fact_table,\n",
    "        \"hemisphere_images\": hemisphere_image_urls\n",
    "    }\n",
    "\n",
    "    return mars_dict\n",
    "\n",
    "print (mars_dict)\n"
   ]
  },
  {
   "cell_type": "code",
   "execution_count": 114,
   "metadata": {},
   "outputs": [
    {
     "ename": "NameError",
     "evalue": "name 'mars_dict2' is not defined",
     "output_type": "error",
     "traceback": [
      "\u001b[0;31m---------------------------------------------------------------------------\u001b[0m",
      "\u001b[0;31mNameError\u001b[0m                                 Traceback (most recent call last)",
      "\u001b[0;32m<ipython-input-114-7eb0b0907cc7>\u001b[0m in \u001b[0;36m<module>\u001b[0;34m()\u001b[0m\n\u001b[0;32m----> 1\u001b[0;31m \u001b[0mmars_dict2\u001b[0m\u001b[0;34m\u001b[0m\u001b[0m\n\u001b[0m",
      "\u001b[0;31mNameError\u001b[0m: name 'mars_dict2' is not defined"
     ]
    }
   ],
   "source": [
    "mars_dict2"
   ]
  },
  {
   "cell_type": "code",
   "execution_count": null,
   "metadata": {
    "collapsed": true
   },
   "outputs": [],
   "source": []
  }
 ],
 "metadata": {
  "kernelspec": {
   "display_name": "Python [conda root]",
   "language": "python",
   "name": "conda-root-py"
  },
  "language_info": {
   "codemirror_mode": {
    "name": "ipython",
    "version": 3
   },
   "file_extension": ".py",
   "mimetype": "text/x-python",
   "name": "python",
   "nbconvert_exporter": "python",
   "pygments_lexer": "ipython3",
   "version": "3.6.3"
  }
 },
 "nbformat": 4,
 "nbformat_minor": 2
}
